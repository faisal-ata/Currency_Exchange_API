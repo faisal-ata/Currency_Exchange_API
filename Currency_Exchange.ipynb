{
 "cells": [
  {
   "cell_type": "code",
   "execution_count": 1,
   "id": "2b3ac67a",
   "metadata": {},
   "outputs": [],
   "source": [
    "import json\n",
    "import pandas as pd\n",
    "import requests"
   ]
  },
  {
   "cell_type": "code",
   "execution_count": 2,
   "id": "1804ed55",
   "metadata": {},
   "outputs": [],
   "source": [
    "url = 'https://api.exchangerate.host/latest'"
   ]
  },
  {
   "cell_type": "code",
   "execution_count": 3,
   "id": "6a45e693",
   "metadata": {},
   "outputs": [],
   "source": [
    "resp = requests.get(url)"
   ]
  },
  {
   "cell_type": "code",
   "execution_count": 4,
   "id": "76b36126",
   "metadata": {},
   "outputs": [],
   "source": [
    "res = json.dumps(resp.json(), indent =4)"
   ]
  },
  {
   "cell_type": "code",
   "execution_count": 5,
   "id": "543adcf0",
   "metadata": {},
   "outputs": [
    {
     "name": "stdout",
     "output_type": "stream",
     "text": [
      "{\n",
      "    \"motd\": {\n",
      "        \"msg\": \"If you or your company use this project or like what we doing, please consider backing us so we can continue maintaining and evolving this project.\",\n",
      "        \"url\": \"https://exchangerate.host/#/donate\"\n",
      "    },\n",
      "    \"success\": true,\n",
      "    \"base\": \"EUR\",\n",
      "    \"date\": \"2022-10-07\",\n",
      "    \"rates\": {\n",
      "        \"AED\": 3.595677,\n",
      "        \"AFN\": 86.720567,\n",
      "        \"ALL\": 116.958542,\n",
      "        \"AMD\": 399.992552,\n",
      "        \"ANG\": 1.765735,\n",
      "        \"AOA\": 427.221415,\n",
      "        \"ARS\": 146.052076,\n",
      "        \"AUD\": 1.52786,\n",
      "        \"AWG\": 1.762016,\n",
      "        \"AZN\": 1.664886,\n",
      "        \"BAM\": 1.956262,\n",
      "        \"BBD\": 1.957733,\n",
      "        \"BDT\": 101.489679,\n",
      "        \"BGN\": 1.953044,\n",
      "        \"BHD\": 0.369393,\n",
      "        \"BIF\": 2017.331367,\n",
      "        \"BMD\": 0.980149,\n",
      "        \"BND\": 1.408349,\n",
      "        \"BOB\": 6.771889,\n",
      "        \"BRL\": 5.112162,\n",
      "        \"BSD\": 0.979442,\n",
      "        \"BTC\": 4.9e-05,\n",
      "        \"BTN\": 80.195545,\n",
      "        \"BWP\": 13.070442,\n",
      "        \"BYN\": 2.506173,\n",
      "        \"BZD\": 1.971848,\n",
      "        \"CAD\": 1.346158,\n",
      "        \"CDF\": 2006.981899,\n",
      "        \"CHF\": 0.969619,\n",
      "        \"CLF\": 0.034194,\n",
      "        \"CLP\": 924.145431,\n",
      "        \"CNH\": 6.952765,\n",
      "        \"CNY\": 6.966972,\n",
      "        \"COP\": 4525.719922,\n",
      "        \"CRC\": 616.552777,\n",
      "        \"CUC\": 0.979637,\n",
      "        \"CUP\": 25.206856,\n",
      "        \"CVE\": 110.467329,\n",
      "        \"CZK\": 24.480896,\n",
      "        \"DJF\": 175.913821,\n",
      "        \"DKK\": 7.433192,\n",
      "        \"DOP\": 52.440743,\n",
      "        \"DZD\": 137.740081,\n",
      "        \"EGP\": 19.227526,\n",
      "        \"ERN\": 14.684439,\n",
      "        \"ETB\": 51.678921,\n",
      "        \"EUR\": 1,\n",
      "        \"FJD\": 2.257612,\n",
      "        \"FKP\": 0.877197,\n",
      "        \"GBP\": 0.876714,\n",
      "        \"GEL\": 2.735799,\n",
      "        \"GGP\": 0.877057,\n",
      "        \"GHS\": 10.325712,\n",
      "        \"GIP\": 0.876792,\n",
      "        \"GMD\": 54.427014,\n",
      "        \"GNF\": 8508.496712,\n",
      "        \"GTQ\": 7.740927,\n",
      "        \"GYD\": 205.003725,\n",
      "        \"HKD\": 7.685226,\n",
      "        \"HNL\": 24.399301,\n",
      "        \"HRK\": 7.523154,\n",
      "        \"HTG\": 119.052202,\n",
      "        \"HUF\": 423.086925,\n",
      "        \"IDR\": 14938.506721,\n",
      "        \"ILS\": 3.459204,\n",
      "        \"IMP\": 0.876828,\n",
      "        \"INR\": 80.599,\n",
      "        \"IQD\": 1442.170637,\n",
      "        \"IRR\": 41406.798757,\n",
      "        \"ISK\": 139.383869,\n",
      "        \"JEP\": 0.876462,\n",
      "        \"JMD\": 150.757771,\n",
      "        \"JOD\": 0.695374,\n",
      "        \"JPY\": 141.934676,\n",
      "        \"KES\": 118.347915,\n",
      "        \"KGS\": 78.631679,\n",
      "        \"KHR\": 4074.785164,\n",
      "        \"KMF\": 491.278489,\n",
      "        \"KPW\": 880.995687,\n",
      "        \"KRW\": 1381.434959,\n",
      "        \"KWD\": 0.304406,\n",
      "        \"KYD\": 0.816977,\n",
      "        \"KZT\": 465.552765,\n",
      "        \"LAK\": 16281.868822,\n",
      "        \"LBP\": 1494.053632,\n",
      "        \"LKR\": 358.190692,\n",
      "        \"LRD\": 150.405953,\n",
      "        \"LSL\": 17.604519,\n",
      "        \"LYD\": 4.917477,\n",
      "        \"MAD\": 10.774084,\n",
      "        \"MDL\": 19.015941,\n",
      "        \"MGA\": 4146.490206,\n",
      "        \"MKD\": 60.814551,\n",
      "        \"MMK\": 2057.743576,\n",
      "        \"MNT\": 3206.072086,\n",
      "        \"MOP\": 7.922744,\n",
      "        \"MRU\": 37.355705,\n",
      "        \"MUR\": 44.784678,\n",
      "        \"MVR\": 15.133407,\n",
      "        \"MWK\": 1014.908771,\n",
      "        \"MXN\": 19.682027,\n",
      "        \"MYR\": 4.553359,\n",
      "        \"MZN\": 62.551223,\n",
      "        \"NAD\": 17.541659,\n",
      "        \"NGN\": 426.3703,\n",
      "        \"NIO\": 35.537654,\n",
      "        \"NOK\": 10.493828,\n",
      "        \"NPR\": 128.315784,\n",
      "        \"NZD\": 1.732151,\n",
      "        \"OMR\": 0.377266,\n",
      "        \"PAB\": 0.979322,\n",
      "        \"PEN\": 3.925392,\n",
      "        \"PGK\": 3.481855,\n",
      "        \"PHP\": 57.647133,\n",
      "        \"PKR\": 218.250691,\n",
      "        \"PLN\": 4.881552,\n",
      "        \"PYG\": 6923.767245,\n",
      "        \"QAR\": 3.598772,\n",
      "        \"RON\": 4.934571,\n",
      "        \"RSD\": 117.218497,\n",
      "        \"RUB\": 59.492769,\n",
      "        \"RWF\": 1051.663357,\n",
      "        \"SAR\": 3.679249,\n",
      "        \"SBD\": 7.984911,\n",
      "        \"SCR\": 14.019428,\n",
      "        \"SDG\": 559.922928,\n",
      "        \"SEK\": 10.915627,\n",
      "        \"SGD\": 1.4006,\n",
      "        \"SHP\": 0.876669,\n",
      "        \"SLL\": 13606.48967,\n",
      "        \"SOS\": 561.73639,\n",
      "        \"SRD\": 26.939569,\n",
      "        \"SSP\": 127.509919,\n",
      "        \"STD\": 22269.898855,\n",
      "        \"STN\": 24.619792,\n",
      "        \"SVC\": 8.573629,\n",
      "        \"SYP\": 2459.475999,\n",
      "        \"SZL\": 17.609849,\n",
      "        \"THB\": 36.660027,\n",
      "        \"TJS\": 9.774466,\n",
      "        \"TMT\": 3.426266,\n",
      "        \"TND\": 3.204085,\n",
      "        \"TOP\": 2.385733,\n",
      "        \"TRY\": 18.186432,\n",
      "        \"TTD\": 6.637661,\n",
      "        \"TWD\": 30.964447,\n",
      "        \"TZS\": 2304.287374,\n",
      "        \"UAH\": 36.493835,\n",
      "        \"UGX\": 3774.610121,\n",
      "        \"USD\": 0.980121,\n",
      "        \"UYU\": 40.132846,\n",
      "        \"UZS\": 10840.781693,\n",
      "        \"VES\": 8.025782,\n",
      "        \"VND\": 23376.339857,\n",
      "        \"VUV\": 118.192002,\n",
      "        \"WST\": 2.707105,\n",
      "        \"XAF\": 655.405344,\n",
      "        \"XAG\": 0.047468,\n",
      "        \"XAU\": 0.001198,\n",
      "        \"XCD\": 2.646754,\n",
      "        \"XDR\": 0.697044,\n",
      "        \"XOF\": 655.404665,\n",
      "        \"XPD\": 0.000656,\n",
      "        \"XPF\": 119.231886,\n",
      "        \"XPT\": 0.00129,\n",
      "        \"YER\": 244.965971,\n",
      "        \"ZAR\": 17.623736,\n",
      "        \"ZMW\": 15.487694,\n",
      "        \"ZWL\": 315.200912\n",
      "    }\n",
      "}\n"
     ]
    }
   ],
   "source": [
    "print(res)"
   ]
  },
  {
   "cell_type": "code",
   "execution_count": 13,
   "id": "7714b12f",
   "metadata": {},
   "outputs": [],
   "source": [
    "respo = resp.json()"
   ]
  },
  {
   "cell_type": "code",
   "execution_count": 14,
   "id": "83ac47b4",
   "metadata": {},
   "outputs": [
    {
     "data": {
      "text/plain": [
       "dict_keys(['motd', 'success', 'base', 'date', 'rates'])"
      ]
     },
     "execution_count": 14,
     "metadata": {},
     "output_type": "execute_result"
    }
   ],
   "source": [
    "type(respo)\n",
    "respo.keys()"
   ]
  },
  {
   "cell_type": "code",
   "execution_count": 24,
   "id": "b404384e",
   "metadata": {},
   "outputs": [
    {
     "data": {
      "text/plain": [
       "80.599"
      ]
     },
     "execution_count": 24,
     "metadata": {},
     "output_type": "execute_result"
    }
   ],
   "source": [
    "r = respo['rates']['INR']\n",
    "r"
   ]
  },
  {
   "cell_type": "code",
   "execution_count": 33,
   "id": "a6aca045",
   "metadata": {},
   "outputs": [
    {
     "name": "stdout",
     "output_type": "stream",
     "text": [
      "Enter code your currency : INR\n",
      "Enter code for currency for which you want to know the rate : JPY\n",
      "How much currency you want to convert 'P.S. this is for date:2022-10-07': 1\n",
      "\n",
      "1.0 INR is equal to 0.57 JPY, based upon exchange rates on 2022-10-07\n"
     ]
    }
   ],
   "source": [
    "your_curr = input(\"Enter code your currency : \")\n",
    "new_curr = input(\"Enter code for currency for which you want to know the rate : \")\n",
    "quantity = float(input(\"How much currency you want to convert 'P.S. this is for date:{}': \".format(respo['date'])))\n",
    "result = round(quantity*(respo['rates'][your_curr]/respo['rates'][new_curr]), 2)\n",
    "print(\"\\n{0} {1} is equal to {2} {3}, based upon exchange rates on {4}\".format(quantity,your_curr,result,new_curr,respo['date']))\n"
   ]
  },
  {
   "cell_type": "code",
   "execution_count": null,
   "id": "d247a4e1",
   "metadata": {},
   "outputs": [],
   "source": []
  }
 ],
 "metadata": {
  "kernelspec": {
   "display_name": "Python 3 (ipykernel)",
   "language": "python",
   "name": "python3"
  },
  "language_info": {
   "codemirror_mode": {
    "name": "ipython",
    "version": 3
   },
   "file_extension": ".py",
   "mimetype": "text/x-python",
   "name": "python",
   "nbconvert_exporter": "python",
   "pygments_lexer": "ipython3",
   "version": "3.9.12"
  }
 },
 "nbformat": 4,
 "nbformat_minor": 5
}
